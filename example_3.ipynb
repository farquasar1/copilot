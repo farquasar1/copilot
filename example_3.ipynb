class Person:
    def __init__(self, name):
        self.name = name
        self.siblings = []

    def add_sibling(self, sibling):
        self.siblings.append(sibling)

class Family:
    def __init__(self):
        self.members = []

    def add_member(self, member):
        self.members.append(member)

    def get_siblings(self, person):
        siblings = []
        for member in self.members:
            if member != person and person in member.siblings:
                siblings.append(member)
        return siblings
# Create some Person instances
person1 = Person("John")
person2 = Person("Jane")
person3 = Person("Mike")
person4 = Person("Emily")

# Create a Family instance
family = Family()

# Add the Person instances to the Family
family.add_member(person1)
family.add_member(person2)
family.add_member(person3)
family.add_member(person4)

# Add siblings for each person
person1.add_sibling(person2)
person1.add_sibling(person3)
person2.add_sibling(person1)
person2.add_sibling(person4)
person3.add_sibling(person1)
person4.add_sibling(person2)

# Get the siblings of a person
person = person4
siblings = family.get_siblings(person)
print(f"Siblings of {person.name}:")
for sibling in siblings:
    print(sibling.name)